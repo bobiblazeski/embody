{
 "cells": [
  {
   "cell_type": "code",
   "execution_count": 1,
   "id": "679ccaec-6907-4457-8a0a-d80c63856403",
   "metadata": {},
   "outputs": [
    {
     "data": {
      "text/plain": [
       "[0, 1, 2, 3]"
      ]
     },
     "execution_count": 1,
     "metadata": {},
     "output_type": "execute_result"
    }
   ],
   "source": [
    "[i for i in range(32 //8)]"
   ]
  },
  {
   "cell_type": "code",
   "execution_count": 5,
   "id": "001ae020-c3d0-4e20-a29e-34662b5f444f",
   "metadata": {},
   "outputs": [
    {
     "data": {
      "text/plain": [
       "[32, 64, 128, 256]"
      ]
     },
     "execution_count": 5,
     "metadata": {},
     "output_type": "execute_result"
    }
   ],
   "source": [
    "#[i for i in range(64 //8)]\n",
    "[16*2**i for i in range(1, 5)]"
   ]
  },
  {
   "cell_type": "code",
   "execution_count": 7,
   "id": "b6f82112-37b3-4050-9479-afcca54ed6f1",
   "metadata": {},
   "outputs": [
    {
     "data": {
      "text/plain": [
       "[80, 96, 112, 128]"
      ]
     },
     "execution_count": 7,
     "metadata": {},
     "output_type": "execute_result"
    }
   ],
   "source": [
    "[16 * e for e in (5, 6, 7, 8)]"
   ]
  },
  {
   "cell_type": "code",
   "execution_count": null,
   "id": "3babf020-0e6e-4c80-a2fd-9d5f4ab87314",
   "metadata": {},
   "outputs": [],
   "source": [
    "p_sz = 16\n",
    "layers = [\n",
    "    (1, 1, 2, 2),\n",
    "    (3, 3, 4, 4),\n",
    "    (5, 6, 7, 8),\n",
    "    (10, 12, 14, 16),\n",
    "]"
   ]
  }
 ],
 "metadata": {
  "kernelspec": {
   "display_name": "Python 3 (ipykernel)",
   "language": "python",
   "name": "python3"
  },
  "language_info": {
   "codemirror_mode": {
    "name": "ipython",
    "version": 3
   },
   "file_extension": ".py",
   "mimetype": "text/x-python",
   "name": "python",
   "nbconvert_exporter": "python",
   "pygments_lexer": "ipython3",
   "version": "3.10.13"
  }
 },
 "nbformat": 4,
 "nbformat_minor": 5
}
